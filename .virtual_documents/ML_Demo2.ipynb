


# import necessary libraries
import pandas as pd 
from sklearn.linear_model import LogisticRegression


# loading the dataset and displaying the first few rows
irisData = pd.read_csv("Iris.csv")
irisData.head(10)



# split the data into features(x) and labels(y)
x = irisData.drop(columns=["Id","Species"])
y = irisData["Species"]


# Creating an ml model
model = LogisticRegression()


#train model
model.fit(x.values,y)


#predict using trained model
prediction = model.predict([[3.5,2.5,2.2,.3]])


# display model
print(prediction)












